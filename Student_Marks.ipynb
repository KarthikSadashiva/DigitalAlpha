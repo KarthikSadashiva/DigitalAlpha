{
 "cells": [
  {
   "cell_type": "code",
   "execution_count": 1,
   "metadata": {},
   "outputs": [
    {
     "name": "stdout",
     "output_type": "stream",
     "text": [
      "   sub1  sub2  sub3  sub4\n",
      "1    68    74    85    94\n",
      "2    78    98    78    84\n",
      "3    89    91    79    88\n",
      "4    68    86    86    95\n"
     ]
    }
   ],
   "source": [
    "import pandas as pd\n",
    "import numpy as np\n",
    "\n",
    "stu1 = [68,74,85,94]\n",
    "stu2 = [78,98,78,84]\n",
    "stu3 = [89,91,79,88]\n",
    "stu4 = [68,86,86,95]\n",
    "\n",
    "marks = np.array([stu1,stu2,stu3,stu4]).reshape(4,4)\n",
    "Student_Marks = pd.DataFrame(marks,index=[np.arange(1,5)],columns=['sub1','sub2','sub3','sub4'])\n",
    "print(Student_Marks)"
   ]
  },
  {
   "cell_type": "code",
   "execution_count": 2,
   "metadata": {},
   "outputs": [
    {
     "name": "stdout",
     "output_type": "stream",
     "text": [
      "Students highest marks\n",
      "1    94\n",
      "2    98\n",
      "3    91\n",
      "4    95\n",
      "dtype: int32\n"
     ]
    }
   ],
   "source": [
    "print(\"Students highest marks\")\n",
    "print(Student_Marks.T.max())"
   ]
  },
  {
   "cell_type": "code",
   "execution_count": 3,
   "metadata": {},
   "outputs": [
    {
     "name": "stdout",
     "output_type": "stream",
     "text": [
      "   sub1  sub2  sub3  sub4  Total\n",
      "1    68    74    85    94    321\n",
      "2    78    98    78    84    338\n",
      "3    89    91    79    88    347\n",
      "4    68    86    86    95    335\n",
      "The roll number of topper is 3 and his total marks is 347\n"
     ]
    }
   ],
   "source": [
    "Student_Marks['Total'] = Student_Marks['sub1']+Student_Marks['sub2']+Student_Marks['sub3']+Student_Marks['sub4']\n",
    "print(Student_Marks)\n",
    "\n",
    "print(\"The roll number of topper is\",Student_Marks['Total'].idxmax()[0],\"and his total marks is\",Student_Marks['Total'].max())"
   ]
  },
  {
   "cell_type": "code",
   "execution_count": 4,
   "metadata": {},
   "outputs": [
    {
     "name": "stdout",
     "output_type": "stream",
     "text": [
      "student 1 sorted marks [68, 74, 85, 94]\n",
      "student 2 sorted marks [78, 78, 84, 98]\n",
      "student 3 sorted marks [79, 88, 89, 91]\n",
      "student 4 sorted marks [68, 86, 86, 95]\n"
     ]
    }
   ],
   "source": [
    "print(\"student 1 sorted marks\",sorted(stu1))\n",
    "print(\"student 2 sorted marks\",sorted(stu2))\n",
    "print(\"student 3 sorted marks\",sorted(stu3))\n",
    "print(\"student 4 sorted marks\",sorted(stu4))"
   ]
  },
  {
   "cell_type": "code",
   "execution_count": 5,
   "metadata": {},
   "outputs": [
    {
     "name": "stdout",
     "output_type": "stream",
     "text": [
      "      sub1  sub2  sub3  sub4  Total\n",
      "(1,)    68    74    85    94    321\n",
      "(2,)    78    98    78    84    338\n",
      "(3,)    89    91    79    88    347\n",
      "(4,)    68    86    86    95    335\n",
      "5       79    75    82    94    330\n",
      "6       61    83    73    99    316\n"
     ]
    }
   ],
   "source": [
    "Student_Marks.loc[5] = [79,75,82,94,sum([79,75,82,94])]\n",
    "Student_Marks.loc[6] = [61,83,73,99,sum([61,83,73,99])]\n",
    "print(Student_Marks)"
   ]
  },
  {
   "cell_type": "code",
   "execution_count": null,
   "metadata": {},
   "outputs": [],
   "source": []
  }
 ],
 "metadata": {
  "kernelspec": {
   "display_name": "Python 3",
   "language": "python",
   "name": "python3"
  },
  "language_info": {
   "codemirror_mode": {
    "name": "ipython",
    "version": 3
   },
   "file_extension": ".py",
   "mimetype": "text/x-python",
   "name": "python",
   "nbconvert_exporter": "python",
   "pygments_lexer": "ipython3",
   "version": "3.6.4"
  }
 },
 "nbformat": 4,
 "nbformat_minor": 2
}
