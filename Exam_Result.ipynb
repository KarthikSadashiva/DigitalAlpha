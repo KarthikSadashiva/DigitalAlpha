{
 "cells": [
  {
   "cell_type": "code",
   "execution_count": 1,
   "metadata": {},
   "outputs": [
    {
     "name": "stdout",
     "output_type": "stream",
     "text": [
      "   Name  No_of_attempts Qualify  Score\n",
      "a  stu1               1       y     67\n",
      "b  stu2               2       n     34\n",
      "c  stu3               2       n     68\n",
      "d  stu4               1       y     24\n",
      "e  stu5               3       n     78\n"
     ]
    }
   ],
   "source": [
    "import pandas as pd\n",
    "Exam_Result={'Name':['stu1','stu2','stu3','stu4','stu5'],\n",
    "             'Score':[67,34,68,24,78],\n",
    "             'No_of_attempts':[1,2,2,1,3],\n",
    "             'Qualify':['y','n','n','y','n']}\n",
    "df=pd.DataFrame(Exam_Result,index=['a','b','c','d','e'])\n",
    "print(df)"
   ]
  },
  {
   "cell_type": "code",
   "execution_count": 2,
   "metadata": {},
   "outputs": [
    {
     "name": "stdout",
     "output_type": "stream",
     "text": [
      "   Name  No_of_attempts Qualify  Score\n",
      "a  stu1               1       y     67\n",
      "b  stu2               2       n     34\n",
      "c  stu3               2       n     68\n",
      "d  stu4               1       y     24\n"
     ]
    }
   ],
   "source": [
    "print(df.head(4))"
   ]
  },
  {
   "cell_type": "code",
   "execution_count": 3,
   "metadata": {},
   "outputs": [
    {
     "name": "stdout",
     "output_type": "stream",
     "text": [
      "a    stu1\n",
      "d    stu4\n",
      "Name: Name, dtype: object\n"
     ]
    }
   ],
   "source": [
    "print(df[df['Qualify']=='y']['Name'])"
   ]
  },
  {
   "cell_type": "code",
   "execution_count": 4,
   "metadata": {},
   "outputs": [
    {
     "name": "stdout",
     "output_type": "stream",
     "text": [
      "b    2\n",
      "d    1\n",
      "Name: No_of_attempts, dtype: int64\n"
     ]
    }
   ],
   "source": [
    "print(df[(df['Score']>=20)&(df['Score']<35)]['No_of_attempts'])"
   ]
  },
  {
   "cell_type": "code",
   "execution_count": null,
   "metadata": {},
   "outputs": [],
   "source": []
  }
 ],
 "metadata": {
  "kernelspec": {
   "display_name": "Python 3",
   "language": "python",
   "name": "python3"
  },
  "language_info": {
   "codemirror_mode": {
    "name": "ipython",
    "version": 3
   },
   "file_extension": ".py",
   "mimetype": "text/x-python",
   "name": "python",
   "nbconvert_exporter": "python",
   "pygments_lexer": "ipython3",
   "version": "3.6.4"
  }
 },
 "nbformat": 4,
 "nbformat_minor": 2
}
