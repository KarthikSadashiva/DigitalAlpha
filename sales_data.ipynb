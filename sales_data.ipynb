{
 "cells": [
  {
   "cell_type": "code",
   "execution_count": 1,
   "metadata": {},
   "outputs": [],
   "source": [
    "import pandas as pd\n",
    "df = pd.read_csv(\"C:\\\\Users\\\\user\\\\.spyder-py3\\\\sales_data.csv\")"
   ]
  },
  {
   "cell_type": "code",
   "execution_count": 2,
   "metadata": {},
   "outputs": [
    {
     "name": "stdout",
     "output_type": "stream",
     "text": [
      "                          Account number  Quantity  Unit price  Ext price\n",
      "                1.000000       -0.161962 -0.113047    0.729789   0.472521\n",
      "Account number -0.161962        1.000000 -0.015114    0.538826   0.297945\n",
      "Quantity       -0.113047       -0.015114  1.000000    0.018479   0.720370\n",
      "Unit price      0.729789        0.538826  0.018479    1.000000   0.689376\n",
      "Ext price       0.472521        0.297945  0.720370    0.689376   1.000000\n"
     ]
    }
   ],
   "source": [
    "print(df.corr())"
   ]
  },
  {
   "cell_type": "code",
   "execution_count": 3,
   "metadata": {},
   "outputs": [
    {
     "name": "stdout",
     "output_type": "stream",
     "text": [
      "                 Account number  Quantity  Unit price    Ext price\n",
      "count  5.000000        5.000000   5.00000     5.00000     5.000000\n",
      "mean   2.000000   640267.600000  13.40000    60.91600   818.772000\n",
      "std    1.581139   226010.674697   5.59464    30.19767   610.737956\n",
      "min    0.000000   258369.000000   5.00000    24.16000   289.920000\n",
      "25%    1.000000   654987.000000  12.00000    44.48000   413.400000\n",
      "50%    2.000000   693471.000000  13.00000    53.62000   578.240000\n",
      "75%    3.000000   741852.000000  18.00000    82.68000  1018.780000\n",
      "max    4.000000   852659.000000  19.00000    99.64000  1793.520000\n"
     ]
    }
   ],
   "source": [
    "print(df.describe())"
   ]
  },
  {
   "cell_type": "code",
   "execution_count": 4,
   "metadata": {},
   "outputs": [
    {
     "name": "stdout",
     "output_type": "stream",
     "text": [
      "                    int64\n",
      "Account number      int64\n",
      "Name               object\n",
      "Sku                object\n",
      "Category           object\n",
      "Quantity            int64\n",
      "Unit price        float64\n",
      "Ext price         float64\n",
      "dtype: object\n"
     ]
    }
   ],
   "source": [
    "print(df.dtypes)"
   ]
  },
  {
   "cell_type": "code",
   "execution_count": 5,
   "metadata": {},
   "outputs": [
    {
     "name": "stdout",
     "output_type": "stream",
     "text": [
      "                Name  Ext price\n",
      "0        Carroll PLC     578.24\n",
      "1  Heidenreich-Bosco    1018.78\n",
      "2            Kerluke     289.92\n",
      "3      Waters-Walker     413.40\n",
      "4      Waelchi-Fahey    1793.52\n"
     ]
    }
   ],
   "source": [
    "print(df[['Name','Ext price']])"
   ]
  },
  {
   "cell_type": "code",
   "execution_count": null,
   "metadata": {},
   "outputs": [],
   "source": []
  }
 ],
 "metadata": {
  "kernelspec": {
   "display_name": "Python 3",
   "language": "python",
   "name": "python3"
  },
  "language_info": {
   "codemirror_mode": {
    "name": "ipython",
    "version": 3
   },
   "file_extension": ".py",
   "mimetype": "text/x-python",
   "name": "python",
   "nbconvert_exporter": "python",
   "pygments_lexer": "ipython3",
   "version": "3.6.4"
  }
 },
 "nbformat": 4,
 "nbformat_minor": 2
}
